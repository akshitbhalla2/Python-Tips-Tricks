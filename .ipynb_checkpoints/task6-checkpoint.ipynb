{
 "cells": [
  {
   "cell_type": "markdown",
   "metadata": {},
   "source": [
    "# Multiprocessing and progress bars\n",
    "\n",
    "Reference notebook for the sixth task of the *Python Tricks and Hacks for Productivity* course on Coursera.\n",
    "\n",
    "**Instructor**: *Danilo Lessa Bernardineli (danilo.bernardineli@usp.br)*"
   ]
  },
  {
   "cell_type": "code",
   "execution_count": 1,
   "metadata": {},
   "outputs": [
    {
     "name": "stdout",
     "output_type": "stream",
     "text": [
      "done!\n"
     ]
    }
   ],
   "source": [
    "N = int(5e6) # this is 5 million\n",
    "a = 3.8\n",
    "\n",
    "def logistic_map(a: float,\n",
    "                 x: float) -> float:\n",
    "    return a * x * (1 - x)\n",
    "\n",
    "x = 0.9\n",
    "for i in range(N):\n",
    "    x = logistic_map(a, x)\n",
    "print(\"done!\")"
   ]
  },
  {
   "cell_type": "code",
   "execution_count": 2,
   "metadata": {},
   "outputs": [
    {
     "data": {
      "application/vnd.jupyter.widget-view+json": {
       "model_id": "c52e10497d9d4c59a0d88f223644ad87",
       "version_major": 2,
       "version_minor": 0
      },
      "text/plain": [
       "HBox(children=(FloatProgress(value=0.0, max=5000000.0), HTML(value='')))"
      ]
     },
     "metadata": {},
     "output_type": "display_data"
    },
    {
     "name": "stdout",
     "output_type": "stream",
     "text": [
      "\n",
      "done!\n"
     ]
    }
   ],
   "source": [
    "from tqdm.auto import tqdm\n",
    "\n",
    "N = int(5e6) # this is 5 million\n",
    "a = 3.8\n",
    "\n",
    "def logistic_map(a: float,\n",
    "                 x: float) -> float:\n",
    "    return a * x * (1 - x)\n",
    "\n",
    "x = 0.9\n",
    "for i in tqdm(range(N)):\n",
    "    x = logistic_map(a, x)\n",
    "print(\"done!\")"
   ]
  },
  {
   "cell_type": "code",
   "execution_count": 3,
   "metadata": {},
   "outputs": [
    {
     "data": {
      "application/vnd.jupyter.widget-view+json": {
       "model_id": "82bea963d468416092f14c76bef15b67",
       "version_major": 2,
       "version_minor": 0
      },
      "text/plain": [
       "HBox(children=(FloatProgress(value=0.0, description='Iterating on the logistic map', max=5000000.0, style=Prog…"
      ]
     },
     "metadata": {},
     "output_type": "display_data"
    },
    {
     "name": "stdout",
     "output_type": "stream",
     "text": [
      "\n",
      "done!\n"
     ]
    }
   ],
   "source": [
    "from tqdm.auto import tqdm\n",
    "\n",
    "N = int(5e6) # this is 5 million\n",
    "a = 3.8\n",
    "\n",
    "def logistic_map(a: float,\n",
    "                 x: float) -> float:\n",
    "    return a * x * (1 - x)\n",
    "\n",
    "x = 0.9\n",
    "for i in tqdm(range(N),\n",
    "              desc='Iterating on the logistic map'):\n",
    "    x = logistic_map(a, x)\n",
    "print(\"done!\")"
   ]
  },
  {
   "cell_type": "code",
   "execution_count": 4,
   "metadata": {},
   "outputs": [
    {
     "data": {
      "application/vnd.jupyter.widget-view+json": {
       "model_id": "27aaf8d137b0475dbb29170cd3c5e750",
       "version_major": 2,
       "version_minor": 0
      },
      "text/plain": [
       "HBox(children=(FloatProgress(value=0.0, description='Iterating on the logistic map', max=4.0, style=ProgressSt…"
      ]
     },
     "metadata": {},
     "output_type": "display_data"
    },
    {
     "data": {
      "application/vnd.jupyter.widget-view+json": {
       "model_id": "960a3fa97ebd4b788fd8cb101ff5ae40",
       "version_major": 2,
       "version_minor": 0
      },
      "text/plain": [
       "HBox(children=(FloatProgress(value=0.0, description='Initial value: 0.2', max=5000000.0, style=ProgressStyle(d…"
      ]
     },
     "metadata": {},
     "output_type": "display_data"
    },
    {
     "name": "stdout",
     "output_type": "stream",
     "text": [
      "\n"
     ]
    },
    {
     "data": {
      "application/vnd.jupyter.widget-view+json": {
       "model_id": "761b3d614f3249a585122e8525104e5e",
       "version_major": 2,
       "version_minor": 0
      },
      "text/plain": [
       "HBox(children=(FloatProgress(value=0.0, description='Initial value: 0.4', max=5000000.0, style=ProgressStyle(d…"
      ]
     },
     "metadata": {},
     "output_type": "display_data"
    },
    {
     "name": "stdout",
     "output_type": "stream",
     "text": [
      "\n"
     ]
    },
    {
     "data": {
      "application/vnd.jupyter.widget-view+json": {
       "model_id": "8d373e403ce54439be54e0b04e5ff62b",
       "version_major": 2,
       "version_minor": 0
      },
      "text/plain": [
       "HBox(children=(FloatProgress(value=0.0, description='Initial value: 0.6', max=5000000.0, style=ProgressStyle(d…"
      ]
     },
     "metadata": {},
     "output_type": "display_data"
    },
    {
     "name": "stdout",
     "output_type": "stream",
     "text": [
      "\n"
     ]
    },
    {
     "data": {
      "application/vnd.jupyter.widget-view+json": {
       "model_id": "7d8d1eaab34043d9b85c49e45db1af0b",
       "version_major": 2,
       "version_minor": 0
      },
      "text/plain": [
       "HBox(children=(FloatProgress(value=0.0, description='Initial value: 0.8', max=5000000.0, style=ProgressStyle(d…"
      ]
     },
     "metadata": {},
     "output_type": "display_data"
    },
    {
     "name": "stdout",
     "output_type": "stream",
     "text": [
      "\n",
      "\n",
      "done!\n"
     ]
    }
   ],
   "source": [
    "from tqdm.auto import tqdm\n",
    "\n",
    "N = int(5e6) # this is 5 million\n",
    "a = 3.8\n",
    "x_i = [0.2, 0.4, 0.6, 0.8]\n",
    "\n",
    "def logistic_map(a: float,\n",
    "                 x: float) -> float:\n",
    "    return a * x * (1 - x)\n",
    "\n",
    "\n",
    "for x_0 in tqdm(x_i,\n",
    "              desc=f'Iterating on the logistic map'):\n",
    "    x = x_0\n",
    "    for i in tqdm(range(N),\n",
    "                  desc=f'Initial value: {x_0}'):\n",
    "        x = logistic_map(a, x)\n",
    "print(\"done!\")"
   ]
  },
  {
   "cell_type": "code",
   "execution_count": 5,
   "metadata": {},
   "outputs": [
    {
     "data": {
      "application/vnd.jupyter.widget-view+json": {
       "model_id": "3e65c0c66cd44b30aa84d1e9ea1504b2",
       "version_major": 2,
       "version_minor": 0
      },
      "text/plain": [
       "HBox(children=(FloatProgress(value=0.0, description='Iterating on the logistic map', max=4.0, style=ProgressSt…"
      ]
     },
     "metadata": {},
     "output_type": "display_data"
    },
    {
     "name": "stdout",
     "output_type": "stream",
     "text": [
      "\n",
      "0.5198490289233741\n"
     ]
    }
   ],
   "source": [
    "from tqdm.auto import tqdm\n",
    "from multiprocessing.pool import Pool\n",
    "\n",
    "N = int(5e6) # this is 5 million\n",
    "a = 3.8\n",
    "x_i = [0.2, 0.4, 0.6, 0.8]\n",
    "\n",
    "\n",
    "def logistic_map(a: float,\n",
    "                 x: float) -> float:\n",
    "    return a * x * (1 - x)\n",
    "\n",
    "\n",
    "def logistic_simulation(x_0):\n",
    "    x = x_0\n",
    "    for i in range(N):\n",
    "        x = logistic_map(a, x)\n",
    "    return x\n",
    "\n",
    "\n",
    "for x_0 in tqdm(x_i,\n",
    "              desc=f'Iterating on the logistic map'):\n",
    "    output = logistic_simulation(x_0)\n",
    "\n",
    "print(output)"
   ]
  },
  {
   "cell_type": "code",
   "execution_count": 8,
   "metadata": {},
   "outputs": [
    {
     "name": "stdout",
     "output_type": "stream",
     "text": [
      "\n",
      "\n",
      "\n",
      "\n",
      "[0.5904506121259498, 0.948578349745379, 0.948578349745379, 0.5198490289233741]\n"
     ]
    }
   ],
   "source": [
    "from tqdm.auto import tqdm\n",
    "from multiprocessing.pool import Pool\n",
    "\n",
    "N = int(5e6) # this is 5 million\n",
    "a = 3.8\n",
    "x_i = [0.2, 0.4, 0.6, 0.8]\n",
    "\n",
    "\n",
    "def logistic_map(a: float,\n",
    "                 x: float) -> float:\n",
    "    return a * x * (1 - x)\n",
    "\n",
    "\n",
    "def logistic_simulation(x_0):\n",
    "    x = x_0\n",
    "    for i in tqdm(range(N), desc = f\"initial value= {x_0}\"):\n",
    "        x = logistic_map(a, x)\n",
    "    return x\n",
    "\n",
    "\n",
    "with Pool() as p:\n",
    "    output = p.map(logistic_simulation, x_i)\n",
    "\n",
    "print(output)"
   ]
  },
  {
   "cell_type": "code",
   "execution_count": 7,
   "metadata": {},
   "outputs": [
    {
     "data": {
      "application/vnd.jupyter.widget-view+json": {
       "model_id": "cb1cc693ae384eecaa9d5cf97f25459e",
       "version_major": 2,
       "version_minor": 0
      },
      "text/plain": [
       "HBox(children=(FloatProgress(value=0.0, description='Sweeping values', max=10.0, style=ProgressStyle(descripti…"
      ]
     },
     "metadata": {},
     "output_type": "display_data"
    },
    {
     "name": "stdout",
     "output_type": "stream",
     "text": [
      "\n",
      "[0.24362478666956935, 0.5904506121259498, 0.7344226939437857, 0.948578349745379, 0.690629079239208, 0.948578349745379, 0.7344226939437857, 0.5198490289233741, 0.24362478666956935, 0.0]\n"
     ]
    }
   ],
   "source": [
    "from tqdm.auto import tqdm\n",
    "from multiprocessing.pool import Pool\n",
    "\n",
    "N = int(5e6) # this is 5 million\n",
    "a = 3.8\n",
    "x_i = [0.1, 0.2, 0.3, 0.4, 0.5, 0.6, 0.7, 0.8, 0.9, 1.0]\n",
    "\n",
    "\n",
    "def logistic_map(a: float,\n",
    "                 x: float) -> float:\n",
    "    return a * x * (1 - x)\n",
    "\n",
    "\n",
    "def logistic_simulation(x_0):\n",
    "    x = x_0\n",
    "    for i in range(N):\n",
    "        x = logistic_map(a, x)\n",
    "    return x\n",
    "\n",
    "\n",
    "with Pool() as p:\n",
    "    iterator = p.imap(logistic_simulation, x_i)\n",
    "    output = tqdm(iterator, total=len(x_i), desc='Sweeping values')\n",
    "    output = list(output)\n",
    "\n",
    "print(output)"
   ]
  },
  {
   "cell_type": "code",
   "execution_count": null,
   "metadata": {},
   "outputs": [],
   "source": []
  }
 ],
 "metadata": {
  "kernelspec": {
   "display_name": "Python 3",
   "language": "python",
   "name": "python3"
  },
  "language_info": {
   "codemirror_mode": {
    "name": "ipython",
    "version": 3
   },
   "file_extension": ".py",
   "mimetype": "text/x-python",
   "name": "python",
   "nbconvert_exporter": "python",
   "pygments_lexer": "ipython3",
   "version": "3.7.4"
  }
 },
 "nbformat": 4,
 "nbformat_minor": 4
}
